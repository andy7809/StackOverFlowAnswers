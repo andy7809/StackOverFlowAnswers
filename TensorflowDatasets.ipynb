{
  "nbformat": 4,
  "nbformat_minor": 0,
  "metadata": {
    "colab": {
      "name": "TensorflowDatasets.ipynb",
      "provenance": [],
      "authorship_tag": "ABX9TyPdLGtb9Pfsz2jb7oRkXrb0",
      "include_colab_link": true
    },
    "kernelspec": {
      "name": "python3",
      "display_name": "Python 3"
    }
  },
  "cells": [
    {
      "cell_type": "markdown",
      "metadata": {
        "id": "view-in-github",
        "colab_type": "text"
      },
      "source": [
        "<a href=\"https://colab.research.google.com/github/andy7809/StackOverFlowAnswers/blob/master/TensorflowDatasets.ipynb\" target=\"_parent\"><img src=\"https://colab.research.google.com/assets/colab-badge.svg\" alt=\"Open In Colab\"/></a>"
      ]
    },
    {
      "cell_type": "code",
      "metadata": {
        "id": "0_sFxdV1Qftf",
        "colab_type": "code",
        "colab": {}
      },
      "source": [
        "!echo $'text, tag' >> movie_reviews.csv\n",
        "!echo $'Good Review, 1' >> movie_reviews.csv\n",
        "!echo $'Bad Review, 0' >> movie_reviews.csv\n",
        "!echo $'Really Good Review, 1' >> movie_reviews.csv\n",
        "!echo $'Really Bad Review, 0' >> movie_reviews.csv\n",
        "!echo $'Average review, 1' >> movie_reviews.csv\n",
        "!echo $'Slightly Ok Review, 0' >> movie_reviews.csv"
      ],
      "execution_count": null,
      "outputs": []
    },
    {
      "cell_type": "markdown",
      "metadata": {
        "id": "M3ePlApCSvG6",
        "colab_type": "text"
      },
      "source": [
        "Question 0: How do I load my CSV?"
      ]
    },
    {
      "cell_type": "code",
      "metadata": {
        "id": "ssydRjwiSTWW",
        "colab_type": "code",
        "colab": {
          "base_uri": "https://localhost:8080/",
          "height": 54
        },
        "outputId": "5535cd9e-a2d1-45e1-c14e-fc48bb0c0d86"
      },
      "source": [
        "import tensorflow as tf\n",
        "\n",
        "# Put your filepath here\n",
        "filepath = 'movie_reviews.csv'\n",
        "# Do you need default values?\n",
        "default_values = ['x', 0.0]\n",
        "# Does your csv have a header?\n",
        "header = True\n",
        "\n",
        "csv_dataset = tf.data.experimental.CsvDataset(filepath, default_values, header=header)\n",
        "\n",
        "def reshape_dataset(txt, tag):\n",
        "  txt = tf.reshape(txt, shape=(1,))\n",
        "  tag = tf.reshape(tag, shape=(1,))\n",
        "  return txt, tag\n",
        "\n",
        "csv_dataset = csv_dataset.map(reshape_dataset)\n",
        "csv_dataset"
      ],
      "execution_count": null,
      "outputs": [
        {
          "output_type": "stream",
          "text": [
            "Tensor(\"Shape:0\", shape=(1,), dtype=int32)\n"
          ],
          "name": "stdout"
        },
        {
          "output_type": "execute_result",
          "data": {
            "text/plain": [
              "<MapDataset shapes: ((1,), (1,)), types: (tf.string, tf.float32)>"
            ]
          },
          "metadata": {
            "tags": []
          },
          "execution_count": 40
        }
      ]
    },
    {
      "cell_type": "markdown",
      "metadata": {
        "id": "2-aSXr0GV9S0",
        "colab_type": "text"
      },
      "source": [
        "Question 1: How do I access the text?"
      ]
    },
    {
      "cell_type": "code",
      "metadata": {
        "id": "I8x7t9LhVyEs",
        "colab_type": "code",
        "colab": {
          "base_uri": "https://localhost:8080/",
          "height": 126
        },
        "outputId": "0742b9ef-ad3f-4333-9e61-ac7cc101a554"
      },
      "source": [
        "# you can iterate through the dataset in a training loop!\n",
        "for entry in csv_dataset:\n",
        "    # an entry is a tuple: text in the first position, tag in the second.\n",
        "    print('text: {}, tag: {}'.format(entry[0], entry[1]))"
      ],
      "execution_count": null,
      "outputs": [
        {
          "output_type": "stream",
          "text": [
            "text: b'Good Review', tag: 0.5\n",
            "text: b'Bad Review', tag: -0.5\n",
            "text: b'Really Good Review', tag: 5.0\n",
            "text: b'Really Bad Review', tag: -5.0\n",
            "text: b'Average review', tag: 0.0\n",
            "text: b'Slightly Ok Review', tag: 0.10000000149011612\n"
          ],
          "name": "stdout"
        }
      ]
    },
    {
      "cell_type": "markdown",
      "metadata": {
        "id": "reHccaGpZtz0",
        "colab_type": "text"
      },
      "source": [
        "Question 2: How can I create training and testing datasets?\n",
        "\n",
        "I revised my original implementation with [this!](https://stackoverflow.com/questions/48213766/split-a-dataset-created-by-tensorflow-dataset-api-in-to-train-and-test)"
      ]
    },
    {
      "cell_type": "code",
      "metadata": {
        "id": "MJIOGuXUZzdb",
        "colab_type": "code",
        "colab": {}
      },
      "source": [
        "training = csv_dataset.take(3)\n",
        "testing = csv_dataset.skip(3)\n",
        "\n",
        "print('Training Data:')\n",
        "for entry in training:\n",
        "    print('text: {}, tag: {}'.format(entry[0], entry[1]))\n",
        "\n",
        "print('Testing Data:')\n",
        "for entry in testing:\n",
        "    print('text: {}, tag: {}'.format(entry[0], entry[1]))"
      ],
      "execution_count": null,
      "outputs": []
    },
    {
      "cell_type": "markdown",
      "metadata": {
        "id": "B1rkNWKgajTF",
        "colab_type": "text"
      },
      "source": [
        "Question 3: How can I turn my text into a vector?\n",
        "\n",
        "It already is a vector! You can go ahead and train the data. I got the model from [here](https://www.tensorflow.org/hub/tutorials/tf2_text_classification)"
      ]
    },
    {
      "cell_type": "code",
      "metadata": {
        "id": "COwzLEsjapLy",
        "colab_type": "code",
        "colab": {
          "base_uri": "https://localhost:8080/",
          "height": 565
        },
        "outputId": "7acef412-9807-4f33-8325-b64dd67fa507"
      },
      "source": [
        "import tensorflow_hub as hub\n",
        "model = \"https://tfhub.dev/google/tf2-preview/gnews-swivel-20dim/1\"\n",
        "hub_layer = hub.KerasLayer(model, output_shape=[20], input_shape=[], \n",
        "                           dtype=tf.string, trainable=True)\n",
        "model = tf.keras.Sequential()\n",
        "model.add(hub_layer)\n",
        "model.add(tf.keras.layers.Dense(16, activation='relu'))\n",
        "model.add(tf.keras.layers.Dense(1))\n",
        "\n",
        "model.summary()\n",
        "model.compile(optimizer='adam',\n",
        "              loss=tf.losses.BinaryCrossentropy(from_logits=True),\n",
        "              metrics=[tf.metrics.BinaryAccuracy(threshold=0.0, name='accuracy')])\n",
        "\n",
        "model.fit(csv_dataset, epochs=5)"
      ],
      "execution_count": null,
      "outputs": [
        {
          "output_type": "stream",
          "text": [
            "WARNING:tensorflow:7 out of the last 7 calls to <function recreate_function.<locals>.restored_function_body at 0x7f50dc2406a8> triggered tf.function retracing. Tracing is expensive and the excessive number of tracings could be due to (1) creating @tf.function repeatedly in a loop, (2) passing tensors with different shapes, (3) passing Python objects instead of tensors. For (1), please define your @tf.function outside of the loop. For (2), @tf.function has experimental_relax_shapes=True option that relaxes argument shapes that can avoid unnecessary retracing. For (3), please refer to https://www.tensorflow.org/tutorials/customization/performance#python_or_tensor_args and https://www.tensorflow.org/api_docs/python/tf/function for  more details.\n"
          ],
          "name": "stdout"
        },
        {
          "output_type": "stream",
          "text": [
            "WARNING:tensorflow:7 out of the last 7 calls to <function recreate_function.<locals>.restored_function_body at 0x7f50dc2406a8> triggered tf.function retracing. Tracing is expensive and the excessive number of tracings could be due to (1) creating @tf.function repeatedly in a loop, (2) passing tensors with different shapes, (3) passing Python objects instead of tensors. For (1), please define your @tf.function outside of the loop. For (2), @tf.function has experimental_relax_shapes=True option that relaxes argument shapes that can avoid unnecessary retracing. For (3), please refer to https://www.tensorflow.org/tutorials/customization/performance#python_or_tensor_args and https://www.tensorflow.org/api_docs/python/tf/function for  more details.\n"
          ],
          "name": "stderr"
        },
        {
          "output_type": "stream",
          "text": [
            "WARNING:tensorflow:8 out of the last 8 calls to <function recreate_function.<locals>.restored_function_body at 0x7f50dc240f28> triggered tf.function retracing. Tracing is expensive and the excessive number of tracings could be due to (1) creating @tf.function repeatedly in a loop, (2) passing tensors with different shapes, (3) passing Python objects instead of tensors. For (1), please define your @tf.function outside of the loop. For (2), @tf.function has experimental_relax_shapes=True option that relaxes argument shapes that can avoid unnecessary retracing. For (3), please refer to https://www.tensorflow.org/tutorials/customization/performance#python_or_tensor_args and https://www.tensorflow.org/api_docs/python/tf/function for  more details.\n"
          ],
          "name": "stdout"
        },
        {
          "output_type": "stream",
          "text": [
            "WARNING:tensorflow:8 out of the last 8 calls to <function recreate_function.<locals>.restored_function_body at 0x7f50dc240f28> triggered tf.function retracing. Tracing is expensive and the excessive number of tracings could be due to (1) creating @tf.function repeatedly in a loop, (2) passing tensors with different shapes, (3) passing Python objects instead of tensors. For (1), please define your @tf.function outside of the loop. For (2), @tf.function has experimental_relax_shapes=True option that relaxes argument shapes that can avoid unnecessary retracing. For (3), please refer to https://www.tensorflow.org/tutorials/customization/performance#python_or_tensor_args and https://www.tensorflow.org/api_docs/python/tf/function for  more details.\n"
          ],
          "name": "stderr"
        },
        {
          "output_type": "stream",
          "text": [
            "Model: \"sequential_11\"\n",
            "_________________________________________________________________\n",
            "Layer (type)                 Output Shape              Param #   \n",
            "=================================================================\n",
            "keras_layer_3 (KerasLayer)   (None, 20)                400020    \n",
            "_________________________________________________________________\n",
            "dense_14 (Dense)             (None, 16)                336       \n",
            "_________________________________________________________________\n",
            "dense_15 (Dense)             (None, 1)                 17        \n",
            "=================================================================\n",
            "Total params: 400,373\n",
            "Trainable params: 400,373\n",
            "Non-trainable params: 0\n",
            "_________________________________________________________________\n",
            "Epoch 1/5\n",
            "6/6 [==============================] - 0s 12ms/step - loss: 1.4550 - accuracy: 0.0000e+00\n",
            "Epoch 2/5\n",
            "6/6 [==============================] - 0s 5ms/step - loss: 1.3443 - accuracy: 0.0000e+00\n",
            "Epoch 3/5\n",
            "6/6 [==============================] - 0s 4ms/step - loss: 1.2653 - accuracy: 0.0000e+00\n",
            "Epoch 4/5\n",
            "6/6 [==============================] - 0s 4ms/step - loss: 1.1837 - accuracy: 0.0000e+00\n",
            "Epoch 5/5\n",
            "6/6 [==============================] - 0s 4ms/step - loss: 1.1001 - accuracy: 0.0000e+00\n"
          ],
          "name": "stdout"
        },
        {
          "output_type": "execute_result",
          "data": {
            "text/plain": [
              "<tensorflow.python.keras.callbacks.History at 0x7f50dc267ef0>"
            ]
          },
          "metadata": {
            "tags": []
          },
          "execution_count": 43
        }
      ]
    }
  ]
}