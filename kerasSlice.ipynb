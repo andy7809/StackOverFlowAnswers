{
  "nbformat": 4,
  "nbformat_minor": 0,
  "metadata": {
    "colab": {
      "name": "kerasSlice.ipynb",
      "provenance": [],
      "authorship_tag": "ABX9TyPxhDSl99VdeYbgxV7363IP",
      "include_colab_link": true
    },
    "kernelspec": {
      "name": "python3",
      "display_name": "Python 3"
    },
    "language_info": {
      "name": "python"
    }
  },
  "cells": [
    {
      "cell_type": "markdown",
      "metadata": {
        "id": "view-in-github",
        "colab_type": "text"
      },
      "source": [
        "<a href=\"https://colab.research.google.com/github/andy7809/StackOverFlowAnswers/blob/master/kerasSlice.ipynb\" target=\"_parent\"><img src=\"https://colab.research.google.com/assets/colab-badge.svg\" alt=\"Open In Colab\"/></a>"
      ]
    },
    {
      "cell_type": "code",
      "metadata": {
        "colab": {
          "base_uri": "https://localhost:8080/"
        },
        "id": "4nucH9YvIz8z",
        "outputId": "cad7876d-e594-44e6-d46c-67ea86e9ee09"
      },
      "source": [
        "import keras as K\n",
        "import tensorflow as tf\n",
        "\n",
        "x = tf.constant(0, shape=(1, 512, 512, 1))\n",
        "\n",
        "def slice(x, n, h1, h2, w1, w2, d):\n",
        "  return x[n, h1:h2, w1:w2, d]\n",
        "\n",
        "\n",
        "y = slice(x, 0, 0, 495, 0, 383, 0)\n",
        "y.shape"
      ],
      "execution_count": 8,
      "outputs": [
        {
          "output_type": "execute_result",
          "data": {
            "text/plain": [
              "TensorShape([495, 383])"
            ]
          },
          "metadata": {
            "tags": []
          },
          "execution_count": 8
        }
      ]
    }
  ]
}